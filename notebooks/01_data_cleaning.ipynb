{
 "cells": [
  {
   "cell_type": "markdown",
   "metadata": {},
   "source": [
    "## Air Quality Index Analysis"
   ]
  },
  {
   "cell_type": "code",
   "execution_count": 22,
   "metadata": {},
   "outputs": [],
   "source": [
    "import pandas as pd\n",
    "import numpy as np\n",
    "from matplotlib import pyplot as plt\n",
    "import seaborn as sns\n",
    "\n",
    "# for handle missing values\n",
    "from sklearn.impute import SimpleImputer\n",
    "\n",
    "from warnings import filterwarnings\n",
    "import inflection\n",
    "\n",
    "plt.style.use(\"dark_background\")\n",
    "filterwarnings(\"ignore\")"
   ]
  },
  {
   "cell_type": "code",
   "execution_count": 23,
   "metadata": {},
   "outputs": [],
   "source": [
    "df = pd.read_csv(\"../data/raw/city_hour.csv\")"
   ]
  },
  {
   "cell_type": "markdown",
   "metadata": {},
   "source": [
    "### **Initial Dataset Exploration**"
   ]
  },
  {
   "cell_type": "markdown",
   "metadata": {},
   "source": [
    "##### **01-Tradational Analysis**"
   ]
  },
  {
   "cell_type": "code",
   "execution_count": 24,
   "metadata": {},
   "outputs": [
    {
     "name": "stdout",
     "output_type": "stream",
     "text": [
      "dataset have 707875 rows & 16 columns\n"
     ]
    }
   ],
   "source": [
    "df_shape = df.shape\n",
    "print(f\"dataset have {df_shape[0]} rows & {df_shape[1]} columns\")"
   ]
  },
  {
   "cell_type": "code",
   "execution_count": 25,
   "metadata": {},
   "outputs": [
    {
     "data": {
      "text/html": [
       "<div>\n",
       "<style scoped>\n",
       "    .dataframe tbody tr th:only-of-type {\n",
       "        vertical-align: middle;\n",
       "    }\n",
       "\n",
       "    .dataframe tbody tr th {\n",
       "        vertical-align: top;\n",
       "    }\n",
       "\n",
       "    .dataframe thead th {\n",
       "        text-align: right;\n",
       "    }\n",
       "</style>\n",
       "<table border=\"1\" class=\"dataframe\">\n",
       "  <thead>\n",
       "    <tr style=\"text-align: right;\">\n",
       "      <th></th>\n",
       "      <th>index</th>\n",
       "      <th>City</th>\n",
       "      <th>Datetime</th>\n",
       "      <th>PM2.5</th>\n",
       "      <th>PM10</th>\n",
       "      <th>NO</th>\n",
       "      <th>NO2</th>\n",
       "      <th>NOx</th>\n",
       "      <th>NH3</th>\n",
       "      <th>CO</th>\n",
       "      <th>SO2</th>\n",
       "      <th>O3</th>\n",
       "      <th>Benzene</th>\n",
       "      <th>Toluene</th>\n",
       "      <th>Xylene</th>\n",
       "      <th>AQI</th>\n",
       "      <th>AQI_Bucket</th>\n",
       "    </tr>\n",
       "  </thead>\n",
       "  <tbody>\n",
       "    <tr>\n",
       "      <th>0</th>\n",
       "      <td>516712</td>\n",
       "      <td>Lucknow</td>\n",
       "      <td>2019-09-07 03:00:00</td>\n",
       "      <td>29.86</td>\n",
       "      <td>NaN</td>\n",
       "      <td>7.08</td>\n",
       "      <td>15.60</td>\n",
       "      <td>16.35</td>\n",
       "      <td>29.58</td>\n",
       "      <td>0.95</td>\n",
       "      <td>4.14</td>\n",
       "      <td>29.04</td>\n",
       "      <td>0.94</td>\n",
       "      <td>1.46</td>\n",
       "      <td>NaN</td>\n",
       "      <td>92.0</td>\n",
       "      <td>Satisfactory</td>\n",
       "    </tr>\n",
       "    <tr>\n",
       "      <th>1</th>\n",
       "      <td>197485</td>\n",
       "      <td>Chennai</td>\n",
       "      <td>2016-02-10 15:00:00</td>\n",
       "      <td>50.08</td>\n",
       "      <td>NaN</td>\n",
       "      <td>3.47</td>\n",
       "      <td>12.57</td>\n",
       "      <td>9.62</td>\n",
       "      <td>0.04</td>\n",
       "      <td>0.85</td>\n",
       "      <td>3.17</td>\n",
       "      <td>47.60</td>\n",
       "      <td>2.92</td>\n",
       "      <td>11.69</td>\n",
       "      <td>NaN</td>\n",
       "      <td>235.0</td>\n",
       "      <td>Poor</td>\n",
       "    </tr>\n",
       "    <tr>\n",
       "      <th>2</th>\n",
       "      <td>571234</td>\n",
       "      <td>Mumbai</td>\n",
       "      <td>2020-05-27 21:00:00</td>\n",
       "      <td>10.63</td>\n",
       "      <td>46.11</td>\n",
       "      <td>16.99</td>\n",
       "      <td>7.62</td>\n",
       "      <td>24.62</td>\n",
       "      <td>5.40</td>\n",
       "      <td>0.24</td>\n",
       "      <td>6.20</td>\n",
       "      <td>18.74</td>\n",
       "      <td>0.77</td>\n",
       "      <td>NaN</td>\n",
       "      <td>NaN</td>\n",
       "      <td>59.0</td>\n",
       "      <td>Satisfactory</td>\n",
       "    </tr>\n",
       "    <tr>\n",
       "      <th>3</th>\n",
       "      <td>176671</td>\n",
       "      <td>Brajrajnagar</td>\n",
       "      <td>2020-01-24 00:00:00</td>\n",
       "      <td>95.37</td>\n",
       "      <td>192.32</td>\n",
       "      <td>21.45</td>\n",
       "      <td>11.22</td>\n",
       "      <td>36.25</td>\n",
       "      <td>78.62</td>\n",
       "      <td>0.80</td>\n",
       "      <td>4.84</td>\n",
       "      <td>12.46</td>\n",
       "      <td>0.00</td>\n",
       "      <td>NaN</td>\n",
       "      <td>NaN</td>\n",
       "      <td>201.0</td>\n",
       "      <td>Poor</td>\n",
       "    </tr>\n",
       "    <tr>\n",
       "      <th>4</th>\n",
       "      <td>314350</td>\n",
       "      <td>Gurugram</td>\n",
       "      <td>2017-11-10 13:00:00</td>\n",
       "      <td>346.26</td>\n",
       "      <td>NaN</td>\n",
       "      <td>8.70</td>\n",
       "      <td>23.16</td>\n",
       "      <td>20.01</td>\n",
       "      <td>NaN</td>\n",
       "      <td>1.01</td>\n",
       "      <td>5.81</td>\n",
       "      <td>93.58</td>\n",
       "      <td>0.95</td>\n",
       "      <td>1.63</td>\n",
       "      <td>NaN</td>\n",
       "      <td>513.0</td>\n",
       "      <td>Severe</td>\n",
       "    </tr>\n",
       "  </tbody>\n",
       "</table>\n",
       "</div>"
      ],
      "text/plain": [
       "    index          City             Datetime   PM2.5    PM10     NO    NO2  \\\n",
       "0  516712       Lucknow  2019-09-07 03:00:00   29.86     NaN   7.08  15.60   \n",
       "1  197485       Chennai  2016-02-10 15:00:00   50.08     NaN   3.47  12.57   \n",
       "2  571234        Mumbai  2020-05-27 21:00:00   10.63   46.11  16.99   7.62   \n",
       "3  176671  Brajrajnagar  2020-01-24 00:00:00   95.37  192.32  21.45  11.22   \n",
       "4  314350      Gurugram  2017-11-10 13:00:00  346.26     NaN   8.70  23.16   \n",
       "\n",
       "     NOx    NH3    CO   SO2     O3  Benzene  Toluene  Xylene    AQI  \\\n",
       "0  16.35  29.58  0.95  4.14  29.04     0.94     1.46     NaN   92.0   \n",
       "1   9.62   0.04  0.85  3.17  47.60     2.92    11.69     NaN  235.0   \n",
       "2  24.62   5.40  0.24  6.20  18.74     0.77      NaN     NaN   59.0   \n",
       "3  36.25  78.62  0.80  4.84  12.46     0.00      NaN     NaN  201.0   \n",
       "4  20.01    NaN  1.01  5.81  93.58     0.95     1.63     NaN  513.0   \n",
       "\n",
       "     AQI_Bucket  \n",
       "0  Satisfactory  \n",
       "1          Poor  \n",
       "2  Satisfactory  \n",
       "3          Poor  \n",
       "4        Severe  "
      ]
     },
     "execution_count": 25,
     "metadata": {},
     "output_type": "execute_result"
    }
   ],
   "source": [
    "df.sample(5).reset_index()    # 5 random samples"
   ]
  },
  {
   "cell_type": "code",
   "execution_count": 26,
   "metadata": {},
   "outputs": [
    {
     "name": "stdout",
     "output_type": "stream",
     "text": [
      "<class 'pandas.core.frame.DataFrame'>\n",
      "RangeIndex: 707875 entries, 0 to 707874\n",
      "Data columns (total 16 columns):\n",
      " #   Column      Non-Null Count   Dtype  \n",
      "---  ------      --------------   -----  \n",
      " 0   City        707875 non-null  object \n",
      " 1   Datetime    707875 non-null  object \n",
      " 2   PM2.5       562787 non-null  float64\n",
      " 3   PM10        411138 non-null  float64\n",
      " 4   NO          591243 non-null  float64\n",
      " 5   NO2         590753 non-null  float64\n",
      " 6   NOx         584651 non-null  float64\n",
      " 7   NH3         435333 non-null  float64\n",
      " 8   CO          621358 non-null  float64\n",
      " 9   SO2         577502 non-null  float64\n",
      " 10  O3          578667 non-null  float64\n",
      " 11  Benzene     544229 non-null  float64\n",
      " 12  Toluene     487268 non-null  float64\n",
      " 13  Xylene      252046 non-null  float64\n",
      " 14  AQI         578795 non-null  float64\n",
      " 15  AQI_Bucket  578795 non-null  object \n",
      "dtypes: float64(13), object(3)\n",
      "memory usage: 86.4+ MB\n"
     ]
    }
   ],
   "source": [
    "df.info()"
   ]
  },
  {
   "cell_type": "code",
   "execution_count": 27,
   "metadata": {},
   "outputs": [
    {
     "data": {
      "text/html": [
       "<div>\n",
       "<style scoped>\n",
       "    .dataframe tbody tr th:only-of-type {\n",
       "        vertical-align: middle;\n",
       "    }\n",
       "\n",
       "    .dataframe tbody tr th {\n",
       "        vertical-align: top;\n",
       "    }\n",
       "\n",
       "    .dataframe thead th {\n",
       "        text-align: right;\n",
       "    }\n",
       "</style>\n",
       "<table border=\"1\" class=\"dataframe\">\n",
       "  <thead>\n",
       "    <tr style=\"text-align: right;\">\n",
       "      <th></th>\n",
       "      <th>PM2.5</th>\n",
       "      <th>PM10</th>\n",
       "      <th>NO</th>\n",
       "      <th>NO2</th>\n",
       "      <th>NOx</th>\n",
       "      <th>NH3</th>\n",
       "      <th>CO</th>\n",
       "      <th>SO2</th>\n",
       "      <th>O3</th>\n",
       "      <th>Benzene</th>\n",
       "      <th>Toluene</th>\n",
       "      <th>Xylene</th>\n",
       "      <th>AQI</th>\n",
       "    </tr>\n",
       "  </thead>\n",
       "  <tbody>\n",
       "    <tr>\n",
       "      <th>count</th>\n",
       "      <td>562787.000000</td>\n",
       "      <td>411138.000000</td>\n",
       "      <td>591243.000000</td>\n",
       "      <td>590753.000000</td>\n",
       "      <td>584651.000000</td>\n",
       "      <td>435333.000000</td>\n",
       "      <td>621358.000000</td>\n",
       "      <td>577502.000000</td>\n",
       "      <td>578667.000000</td>\n",
       "      <td>544229.000000</td>\n",
       "      <td>487268.000000</td>\n",
       "      <td>252046.000000</td>\n",
       "      <td>578795.000000</td>\n",
       "    </tr>\n",
       "    <tr>\n",
       "      <th>mean</th>\n",
       "      <td>67.622994</td>\n",
       "      <td>119.075804</td>\n",
       "      <td>17.421755</td>\n",
       "      <td>28.885157</td>\n",
       "      <td>32.287565</td>\n",
       "      <td>23.607959</td>\n",
       "      <td>2.183539</td>\n",
       "      <td>14.038307</td>\n",
       "      <td>34.798979</td>\n",
       "      <td>3.087595</td>\n",
       "      <td>8.660927</td>\n",
       "      <td>3.130537</td>\n",
       "      <td>166.413500</td>\n",
       "    </tr>\n",
       "    <tr>\n",
       "      <th>std</th>\n",
       "      <td>74.730496</td>\n",
       "      <td>104.224752</td>\n",
       "      <td>32.095211</td>\n",
       "      <td>29.162194</td>\n",
       "      <td>39.756669</td>\n",
       "      <td>28.831900</td>\n",
       "      <td>10.970514</td>\n",
       "      <td>19.305540</td>\n",
       "      <td>29.806379</td>\n",
       "      <td>16.456599</td>\n",
       "      <td>21.741023</td>\n",
       "      <td>7.834832</td>\n",
       "      <td>162.112729</td>\n",
       "    </tr>\n",
       "    <tr>\n",
       "      <th>min</th>\n",
       "      <td>0.010000</td>\n",
       "      <td>0.010000</td>\n",
       "      <td>0.010000</td>\n",
       "      <td>0.010000</td>\n",
       "      <td>0.000000</td>\n",
       "      <td>0.010000</td>\n",
       "      <td>0.000000</td>\n",
       "      <td>0.010000</td>\n",
       "      <td>0.010000</td>\n",
       "      <td>0.000000</td>\n",
       "      <td>0.000000</td>\n",
       "      <td>0.000000</td>\n",
       "      <td>8.000000</td>\n",
       "    </tr>\n",
       "    <tr>\n",
       "      <th>25%</th>\n",
       "      <td>26.200000</td>\n",
       "      <td>52.380000</td>\n",
       "      <td>3.840000</td>\n",
       "      <td>10.810000</td>\n",
       "      <td>10.660000</td>\n",
       "      <td>8.120000</td>\n",
       "      <td>0.420000</td>\n",
       "      <td>4.880000</td>\n",
       "      <td>13.420000</td>\n",
       "      <td>0.050000</td>\n",
       "      <td>0.370000</td>\n",
       "      <td>0.100000</td>\n",
       "      <td>79.000000</td>\n",
       "    </tr>\n",
       "    <tr>\n",
       "      <th>50%</th>\n",
       "      <td>46.420000</td>\n",
       "      <td>91.500000</td>\n",
       "      <td>7.960000</td>\n",
       "      <td>20.320000</td>\n",
       "      <td>20.790000</td>\n",
       "      <td>15.380000</td>\n",
       "      <td>0.800000</td>\n",
       "      <td>8.370000</td>\n",
       "      <td>26.240000</td>\n",
       "      <td>0.860000</td>\n",
       "      <td>2.590000</td>\n",
       "      <td>0.790000</td>\n",
       "      <td>116.000000</td>\n",
       "    </tr>\n",
       "    <tr>\n",
       "      <th>75%</th>\n",
       "      <td>79.490000</td>\n",
       "      <td>147.520000</td>\n",
       "      <td>16.150000</td>\n",
       "      <td>36.350000</td>\n",
       "      <td>37.150000</td>\n",
       "      <td>29.230000</td>\n",
       "      <td>1.370000</td>\n",
       "      <td>14.780000</td>\n",
       "      <td>47.620000</td>\n",
       "      <td>2.750000</td>\n",
       "      <td>8.410000</td>\n",
       "      <td>3.120000</td>\n",
       "      <td>208.000000</td>\n",
       "    </tr>\n",
       "    <tr>\n",
       "      <th>max</th>\n",
       "      <td>999.990000</td>\n",
       "      <td>1000.000000</td>\n",
       "      <td>499.990000</td>\n",
       "      <td>499.510000</td>\n",
       "      <td>498.610000</td>\n",
       "      <td>499.970000</td>\n",
       "      <td>498.570000</td>\n",
       "      <td>199.960000</td>\n",
       "      <td>497.620000</td>\n",
       "      <td>498.070000</td>\n",
       "      <td>499.400000</td>\n",
       "      <td>499.990000</td>\n",
       "      <td>3133.000000</td>\n",
       "    </tr>\n",
       "  </tbody>\n",
       "</table>\n",
       "</div>"
      ],
      "text/plain": [
       "               PM2.5           PM10             NO            NO2  \\\n",
       "count  562787.000000  411138.000000  591243.000000  590753.000000   \n",
       "mean       67.622994     119.075804      17.421755      28.885157   \n",
       "std        74.730496     104.224752      32.095211      29.162194   \n",
       "min         0.010000       0.010000       0.010000       0.010000   \n",
       "25%        26.200000      52.380000       3.840000      10.810000   \n",
       "50%        46.420000      91.500000       7.960000      20.320000   \n",
       "75%        79.490000     147.520000      16.150000      36.350000   \n",
       "max       999.990000    1000.000000     499.990000     499.510000   \n",
       "\n",
       "                 NOx            NH3             CO            SO2  \\\n",
       "count  584651.000000  435333.000000  621358.000000  577502.000000   \n",
       "mean       32.287565      23.607959       2.183539      14.038307   \n",
       "std        39.756669      28.831900      10.970514      19.305540   \n",
       "min         0.000000       0.010000       0.000000       0.010000   \n",
       "25%        10.660000       8.120000       0.420000       4.880000   \n",
       "50%        20.790000      15.380000       0.800000       8.370000   \n",
       "75%        37.150000      29.230000       1.370000      14.780000   \n",
       "max       498.610000     499.970000     498.570000     199.960000   \n",
       "\n",
       "                  O3        Benzene        Toluene         Xylene  \\\n",
       "count  578667.000000  544229.000000  487268.000000  252046.000000   \n",
       "mean       34.798979       3.087595       8.660927       3.130537   \n",
       "std        29.806379      16.456599      21.741023       7.834832   \n",
       "min         0.010000       0.000000       0.000000       0.000000   \n",
       "25%        13.420000       0.050000       0.370000       0.100000   \n",
       "50%        26.240000       0.860000       2.590000       0.790000   \n",
       "75%        47.620000       2.750000       8.410000       3.120000   \n",
       "max       497.620000     498.070000     499.400000     499.990000   \n",
       "\n",
       "                 AQI  \n",
       "count  578795.000000  \n",
       "mean      166.413500  \n",
       "std       162.112729  \n",
       "min         8.000000  \n",
       "25%        79.000000  \n",
       "50%       116.000000  \n",
       "75%       208.000000  \n",
       "max      3133.000000  "
      ]
     },
     "execution_count": 27,
     "metadata": {},
     "output_type": "execute_result"
    }
   ],
   "source": [
    "df.describe()          # summary statstics of numerical columns"
   ]
  },
  {
   "cell_type": "code",
   "execution_count": 28,
   "metadata": {},
   "outputs": [
    {
     "data": {
      "text/html": [
       "<div>\n",
       "<style scoped>\n",
       "    .dataframe tbody tr th:only-of-type {\n",
       "        vertical-align: middle;\n",
       "    }\n",
       "\n",
       "    .dataframe tbody tr th {\n",
       "        vertical-align: top;\n",
       "    }\n",
       "\n",
       "    .dataframe thead th {\n",
       "        text-align: right;\n",
       "    }\n",
       "</style>\n",
       "<table border=\"1\" class=\"dataframe\">\n",
       "  <thead>\n",
       "    <tr style=\"text-align: right;\">\n",
       "      <th></th>\n",
       "      <th>City</th>\n",
       "      <th>Datetime</th>\n",
       "      <th>AQI_Bucket</th>\n",
       "    </tr>\n",
       "  </thead>\n",
       "  <tbody>\n",
       "    <tr>\n",
       "      <th>count</th>\n",
       "      <td>707875</td>\n",
       "      <td>707875</td>\n",
       "      <td>578795</td>\n",
       "    </tr>\n",
       "    <tr>\n",
       "      <th>unique</th>\n",
       "      <td>26</td>\n",
       "      <td>48192</td>\n",
       "      <td>6</td>\n",
       "    </tr>\n",
       "    <tr>\n",
       "      <th>top</th>\n",
       "      <td>Ahmedabad</td>\n",
       "      <td>2020-06-29 01:00:00</td>\n",
       "      <td>Moderate</td>\n",
       "    </tr>\n",
       "    <tr>\n",
       "      <th>freq</th>\n",
       "      <td>48192</td>\n",
       "      <td>26</td>\n",
       "      <td>198991</td>\n",
       "    </tr>\n",
       "  </tbody>\n",
       "</table>\n",
       "</div>"
      ],
      "text/plain": [
       "             City             Datetime AQI_Bucket\n",
       "count      707875               707875     578795\n",
       "unique         26                48192          6\n",
       "top     Ahmedabad  2020-06-29 01:00:00   Moderate\n",
       "freq        48192                   26     198991"
      ]
     },
     "execution_count": 28,
     "metadata": {},
     "output_type": "execute_result"
    }
   ],
   "source": [
    "df.describe(include=\"O\")       # summary statstics of categorical columns"
   ]
  },
  {
   "cell_type": "code",
   "execution_count": 29,
   "metadata": {},
   "outputs": [
    {
     "data": {
      "image/png": "[encoded data removed]",
      "text/plain": [
       "<Figure size 1600x600 with 1 Axes>"
      ]
     },
     "metadata": {},
     "output_type": "display_data"
    }
   ],
   "source": [
    "# percentage of missing values in each columns\n",
    "nan_percentage = list(map(lambda x: round(x, 2), list(df.isna().mean() * 100)))  \n",
    "\n",
    "plt.figure(figsize=(16, 6))\n",
    "\n",
    "# conditional formatting : red if  percentage greater than 20 else green\n",
    "conditional_colors = [\"#03fc3d\" if each < 20 else \"red\" for each in nan_percentage]  \n",
    "\n",
    "fig = plt.bar(x=df.columns, height=nan_percentage, color=conditional_colors)\n",
    "plt.xticks(rotation=90)\n",
    "plt.bar_label(fig)\n",
    "plt.title(\"Percentage of missing values in each columns\")\n",
    "plt.ylabel(\"Percentage (%)\")\n",
    "plt.xlabel(\"Columns\")\n",
    "plt.ylim(0,100)\n",
    "plt.show()"
   ]
  },
  {
   "cell_type": "markdown",
   "metadata": {},
   "source": [
    "### **Data Cleaning**"
   ]
  },
  {
   "cell_type": "markdown",
   "metadata": {
    "jp-MarkdownHeadingCollapsed": true
   },
   "source": [
    "##### **02-Data Type Conversion**"
   ]
  },
  {
   "cell_type": "code",
   "execution_count": 30,
   "metadata": {},
   "outputs": [
    {
     "data": {
      "text/plain": [
       "City           object\n",
       "Datetime       object\n",
       "PM2.5         float64\n",
       "PM10          float64\n",
       "NO            float64\n",
       "NO2           float64\n",
       "NOx           float64\n",
       "NH3           float64\n",
       "CO            float64\n",
       "SO2           float64\n",
       "O3            float64\n",
       "Benzene       float64\n",
       "Toluene       float64\n",
       "Xylene        float64\n",
       "AQI           float64\n",
       "AQI_Bucket     object\n",
       "dtype: object"
      ]
     },
     "execution_count": 30,
     "metadata": {},
     "output_type": "execute_result"
    }
   ],
   "source": [
    "df.dtypes    # before"
   ]
  },
  {
   "cell_type": "code",
   "execution_count": 31,
   "metadata": {},
   "outputs": [
    {
     "data": {
      "text/plain": [
       "City                  object\n",
       "Datetime      datetime64[ns]\n",
       "PM2.5                float64\n",
       "PM10                 float64\n",
       "NO                   float64\n",
       "NO2                  float64\n",
       "NOx                  float64\n",
       "NH3                  float64\n",
       "CO                   float64\n",
       "SO2                  float64\n",
       "O3                   float64\n",
       "Benzene              float64\n",
       "Toluene              float64\n",
       "Xylene               float64\n",
       "AQI                  float64\n",
       "AQI_Bucket            object\n",
       "dtype: object"
      ]
     },
     "execution_count": 31,
     "metadata": {},
     "output_type": "execute_result"
    }
   ],
   "source": [
    "df[\"Datetime\"] = pd.to_datetime(df[\"Datetime\"])     # convert datetime columns (type: object) to (type: datetime)\n",
    "df.dtypes    # after"
   ]
  },
  {
   "cell_type": "markdown",
   "metadata": {
    "jp-MarkdownHeadingCollapsed": true
   },
   "source": [
    "##### **03-convert column name style into snake_case**"
   ]
  },
  {
   "cell_type": "code",
   "execution_count": 32,
   "metadata": {},
   "outputs": [
    {
     "data": {
      "text/plain": [
       "Index(['City', 'Datetime', 'PM2.5', 'PM10', 'NO', 'NO2', 'NOx', 'NH3', 'CO',\n",
       "       'SO2', 'O3', 'Benzene', 'Toluene', 'Xylene', 'AQI', 'AQI_Bucket'],\n",
       "      dtype='object')"
      ]
     },
     "execution_count": 32,
     "metadata": {},
     "output_type": "execute_result"
    }
   ],
   "source": [
    "df.columns     # before"
   ]
  },
  {
   "cell_type": "code",
   "execution_count": 33,
   "metadata": {},
   "outputs": [
    {
     "data": {
      "text/plain": [
       "Index(['city', 'datetime', 'pm2.5', 'pm10', 'no', 'no2', 'n_ox', 'nh3', 'co',\n",
       "       'so2', 'o3', 'benzene', 'toluene', 'xylene', 'aqi', 'aqi_bucket'],\n",
       "      dtype='object')"
      ]
     },
     "execution_count": 33,
     "metadata": {},
     "output_type": "execute_result"
    }
   ],
   "source": [
    "df.columns = [inflection.underscore(column) for column in df.columns]\n",
    "df.columns     # after"
   ]
  },
  {
   "cell_type": "markdown",
   "metadata": {
    "jp-MarkdownHeadingCollapsed": true
   },
   "source": [
    "##### **04-Handle Missing Values**"
   ]
  },
  {
   "cell_type": "code",
   "execution_count": 34,
   "metadata": {},
   "outputs": [],
   "source": [
    "numeric_cols = list(df.select_dtypes(np.number).columns)\n",
    "categorical_cols = list(df.select_dtypes(\"object\").columns)"
   ]
  },
  {
   "cell_type": "code",
   "execution_count": 35,
   "metadata": {},
   "outputs": [
    {
     "data": {
      "image/png": "[encoded data removed]",
      "text/plain": [
       "<Figure size 1600x600 with 2 Axes>"
      ]
     },
     "metadata": {},
     "output_type": "display_data"
    }
   ],
   "source": [
    "plt.figure(figsize=(16,6))\n",
    "sns.heatmap(df.isna())\n",
    "plt.title(\"Missing values in Heatmap\")\n",
    "plt.show()"
   ]
  },
  {
   "cell_type": "markdown",
   "metadata": {},
   "source": [
    "**condition**\n",
    "\n",
    "**-> if `missing value count > 50%` then `drop column/row`**\n",
    "\n",
    "**-> if `missing value count < 20` then `use simple imputers`**\n",
    "\n",
    "**-> if `missing value count between 50 and 20` then `use knn imputer`**"
   ]
  },
  {
   "cell_type": "code",
   "execution_count": 36,
   "metadata": {},
   "outputs": [
    {
     "name": "stdout",
     "output_type": "stream",
     "text": [
      "city           0.000000\n",
      "datetime       0.000000\n",
      "pm2.5         20.496274\n",
      "pm10          41.919407\n",
      "no            16.476355\n",
      "no2           16.545577\n",
      "n_ox          17.407593\n",
      "nh3           38.501430\n",
      "co            12.222073\n",
      "so2           18.417517\n",
      "o3            18.252940\n",
      "benzene       23.117923\n",
      "toluene       31.164683\n",
      "xylene        64.393996\n",
      "aqi           18.234858\n",
      "aqi_bucket    18.234858\n",
      "dtype: float64\n"
     ]
    }
   ],
   "source": [
    "print(df.isna().mean()*100)"
   ]
  },
  {
   "cell_type": "code",
   "execution_count": 37,
   "metadata": {},
   "outputs": [],
   "source": [
    "\"\"\"\n",
    "> drop column & rows which have missing values > 50%\n",
    "\"\"\"\n",
    "unwanted_col = df.columns[df.isna().mean() * 100 > 50]\n",
    "df = df.drop(unwanted_col, axis=1)    # for columns\n",
    "\n",
    "df = df.loc[df.isna().mean(axis=1)*100 < 50]    # for rows"
   ]
  },
  {
   "cell_type": "code",
   "execution_count": 38,
   "metadata": {},
   "outputs": [
    {
     "data": {
      "text/plain": [
       "city           0.000000\n",
       "datetime       0.000000\n",
       "pm2.5          6.975970\n",
       "pm10          32.108733\n",
       "no             2.391373\n",
       "no2            2.589689\n",
       "n_ox           7.718246\n",
       "nh3           28.454795\n",
       "co             3.790507\n",
       "so2            4.825290\n",
       "o3             4.595688\n",
       "benzene       15.810445\n",
       "toluene       25.136073\n",
       "aqi            5.573029\n",
       "aqi_bucket     5.573029\n",
       "dtype: float64"
      ]
     },
     "execution_count": 38,
     "metadata": {},
     "output_type": "execute_result"
    }
   ],
   "source": [
    "df.isna().mean()*100"
   ]
  },
  {
   "cell_type": "code",
   "execution_count": 39,
   "metadata": {},
   "outputs": [],
   "source": [
    "\"\"\"\n",
    "> TARGET COLUMN : aqi\n",
    "> we cannot impute missing values in TARGET VARIABLE \n",
    "> it just 5%, so we can drop those samples\n",
    "\"\"\"\n",
    "df = df.loc[df[\"aqi\"].dropna().index]"
   ]
  },
  {
   "cell_type": "markdown",
   "metadata": {},
   "source": [
    "**Skewness of numerical columns**"
   ]
  },
  {
   "cell_type": "code",
   "execution_count": 40,
   "metadata": {},
   "outputs": [
    {
     "data": {
      "text/html": [
       "<div>\n",
       "<style scoped>\n",
       "    .dataframe tbody tr th:only-of-type {\n",
       "        vertical-align: middle;\n",
       "    }\n",
       "\n",
       "    .dataframe tbody tr th {\n",
       "        vertical-align: top;\n",
       "    }\n",
       "\n",
       "    .dataframe thead th {\n",
       "        text-align: right;\n",
       "    }\n",
       "</style>\n",
       "<table border=\"1\" class=\"dataframe\">\n",
       "  <thead>\n",
       "    <tr style=\"text-align: right;\">\n",
       "      <th></th>\n",
       "      <th>skewness</th>\n",
       "      <th>status</th>\n",
       "    </tr>\n",
       "  </thead>\n",
       "  <tbody>\n",
       "    <tr>\n",
       "      <th>pm2.5</th>\n",
       "      <td>4.214536</td>\n",
       "      <td>+ve skew</td>\n",
       "    </tr>\n",
       "    <tr>\n",
       "      <th>pm10</th>\n",
       "      <td>2.484969</td>\n",
       "      <td>+ve skew</td>\n",
       "    </tr>\n",
       "    <tr>\n",
       "      <th>no</th>\n",
       "      <td>5.322994</td>\n",
       "      <td>+ve skew</td>\n",
       "    </tr>\n",
       "    <tr>\n",
       "      <th>no2</th>\n",
       "      <td>3.274186</td>\n",
       "      <td>+ve skew</td>\n",
       "    </tr>\n",
       "    <tr>\n",
       "      <th>n_ox</th>\n",
       "      <td>3.647041</td>\n",
       "      <td>+ve skew</td>\n",
       "    </tr>\n",
       "    <tr>\n",
       "      <th>nh3</th>\n",
       "      <td>5.281994</td>\n",
       "      <td>+ve skew</td>\n",
       "    </tr>\n",
       "    <tr>\n",
       "      <th>co</th>\n",
       "      <td>20.512254</td>\n",
       "      <td>+ve skew</td>\n",
       "    </tr>\n",
       "    <tr>\n",
       "      <th>so2</th>\n",
       "      <td>4.44902</td>\n",
       "      <td>+ve skew</td>\n",
       "    </tr>\n",
       "    <tr>\n",
       "      <th>o3</th>\n",
       "      <td>1.679779</td>\n",
       "      <td>+ve skew</td>\n",
       "    </tr>\n",
       "    <tr>\n",
       "      <th>benzene</th>\n",
       "      <td>21.943066</td>\n",
       "      <td>+ve skew</td>\n",
       "    </tr>\n",
       "    <tr>\n",
       "      <th>toluene</th>\n",
       "      <td>11.123387</td>\n",
       "      <td>+ve skew</td>\n",
       "    </tr>\n",
       "    <tr>\n",
       "      <th>aqi</th>\n",
       "      <td>6.402445</td>\n",
       "      <td>+ve skew</td>\n",
       "    </tr>\n",
       "  </tbody>\n",
       "</table>\n",
       "</div>"
      ],
      "text/plain": [
       "          skewness    status\n",
       "pm2.5     4.214536  +ve skew\n",
       "pm10      2.484969  +ve skew\n",
       "no        5.322994  +ve skew\n",
       "no2       3.274186  +ve skew\n",
       "n_ox      3.647041  +ve skew\n",
       "nh3       5.281994  +ve skew\n",
       "co       20.512254  +ve skew\n",
       "so2        4.44902  +ve skew\n",
       "o3        1.679779  +ve skew\n",
       "benzene  21.943066  +ve skew\n",
       "toluene  11.123387  +ve skew\n",
       "aqi       6.402445  +ve skew"
      ]
     },
     "execution_count": 40,
     "metadata": {},
     "output_type": "execute_result"
    }
   ],
   "source": [
    "\"\"\"\n",
    "> calculate skewness of columns\n",
    "\"\"\"\n",
    "skewness = {}\n",
    "for column in df.select_dtypes(np.number).columns:\n",
    "    skew_value = df[column].skew()\n",
    "    skewness[column] = {\"skewness\" : skew_value, \"status\" : \"+ve skew\" if skew_value > 0 else \"-ve skew\"}\n",
    "    \n",
    "pd.DataFrame(skewness).T"
   ]
  },
  {
   "cell_type": "markdown",
   "metadata": {},
   "source": [
    "**Median imputer**"
   ]
  },
  {
   "cell_type": "code",
   "execution_count": 41,
   "metadata": {},
   "outputs": [],
   "source": [
    "\"\"\"\n",
    "> All the columns follow positive skewness, so we can choose imputer as median\n",
    "> Handle missing values with median\n",
    "\"\"\"\n",
    "missing_cols = df.columns[df.isna().mean()*100 > 0]\n",
    "median_imputer = SimpleImputer(strategy=\"median\")\n",
    "for each in missing_cols:\n",
    "    df[each] = median_imputer.fit_transform(df[each].to_numpy().reshape(-1, 1))"
   ]
  },
  {
   "cell_type": "code",
   "execution_count": 42,
   "metadata": {},
   "outputs": [
    {
     "data": {
      "text/plain": [
       "city          0.0\n",
       "datetime      0.0\n",
       "pm2.5         0.0\n",
       "pm10          0.0\n",
       "no            0.0\n",
       "no2           0.0\n",
       "n_ox          0.0\n",
       "nh3           0.0\n",
       "co            0.0\n",
       "so2           0.0\n",
       "o3            0.0\n",
       "benzene       0.0\n",
       "toluene       0.0\n",
       "aqi           0.0\n",
       "aqi_bucket    0.0\n",
       "dtype: float64"
      ]
     },
     "execution_count": 42,
     "metadata": {},
     "output_type": "execute_result"
    }
   ],
   "source": [
    "df.isna().mean()*100"
   ]
  },
  {
   "cell_type": "markdown",
   "metadata": {},
   "source": [
    "##### **05-Outlier Treatment**"
   ]
  },
  {
   "cell_type": "code",
   "execution_count": 43,
   "metadata": {},
   "outputs": [
    {
     "data": {
      "text/html": [
       "<div>\n",
       "<style scoped>\n",
       "    .dataframe tbody tr th:only-of-type {\n",
       "        vertical-align: middle;\n",
       "    }\n",
       "\n",
       "    .dataframe tbody tr th {\n",
       "        vertical-align: top;\n",
       "    }\n",
       "\n",
       "    .dataframe thead th {\n",
       "        text-align: right;\n",
       "    }\n",
       "</style>\n",
       "<table border=\"1\" class=\"dataframe\">\n",
       "  <thead>\n",
       "    <tr style=\"text-align: right;\">\n",
       "      <th></th>\n",
       "      <th>city</th>\n",
       "      <th>datetime</th>\n",
       "      <th>pm2.5</th>\n",
       "      <th>pm10</th>\n",
       "      <th>no</th>\n",
       "      <th>no2</th>\n",
       "      <th>n_ox</th>\n",
       "      <th>nh3</th>\n",
       "      <th>co</th>\n",
       "      <th>so2</th>\n",
       "      <th>o3</th>\n",
       "      <th>benzene</th>\n",
       "      <th>toluene</th>\n",
       "      <th>aqi</th>\n",
       "      <th>aqi_bucket</th>\n",
       "    </tr>\n",
       "  </thead>\n",
       "  <tbody>\n",
       "    <tr>\n",
       "      <th>680</th>\n",
       "      <td>Ahmedabad</td>\n",
       "      <td>2015-01-29 09:00:00</td>\n",
       "      <td>80.47</td>\n",
       "      <td>92.0</td>\n",
       "      <td>1.42</td>\n",
       "      <td>21.90</td>\n",
       "      <td>20.65</td>\n",
       "      <td>15.87</td>\n",
       "      <td>1.42</td>\n",
       "      <td>32.26</td>\n",
       "      <td>46.71</td>\n",
       "      <td>0.0</td>\n",
       "      <td>0.0</td>\n",
       "      <td>288.0</td>\n",
       "      <td>Poor</td>\n",
       "    </tr>\n",
       "    <tr>\n",
       "      <th>681</th>\n",
       "      <td>Ahmedabad</td>\n",
       "      <td>2015-01-29 10:00:00</td>\n",
       "      <td>87.80</td>\n",
       "      <td>92.0</td>\n",
       "      <td>2.03</td>\n",
       "      <td>19.87</td>\n",
       "      <td>22.22</td>\n",
       "      <td>15.87</td>\n",
       "      <td>2.03</td>\n",
       "      <td>78.95</td>\n",
       "      <td>21.88</td>\n",
       "      <td>0.0</td>\n",
       "      <td>0.0</td>\n",
       "      <td>181.0</td>\n",
       "      <td>Moderate</td>\n",
       "    </tr>\n",
       "    <tr>\n",
       "      <th>682</th>\n",
       "      <td>Ahmedabad</td>\n",
       "      <td>2015-01-29 11:00:00</td>\n",
       "      <td>90.53</td>\n",
       "      <td>92.0</td>\n",
       "      <td>1.72</td>\n",
       "      <td>20.11</td>\n",
       "      <td>22.12</td>\n",
       "      <td>15.87</td>\n",
       "      <td>1.72</td>\n",
       "      <td>95.86</td>\n",
       "      <td>67.67</td>\n",
       "      <td>0.0</td>\n",
       "      <td>0.0</td>\n",
       "      <td>182.0</td>\n",
       "      <td>Moderate</td>\n",
       "    </tr>\n",
       "    <tr>\n",
       "      <th>683</th>\n",
       "      <td>Ahmedabad</td>\n",
       "      <td>2015-01-29 12:00:00</td>\n",
       "      <td>83.53</td>\n",
       "      <td>92.0</td>\n",
       "      <td>0.75</td>\n",
       "      <td>16.35</td>\n",
       "      <td>16.48</td>\n",
       "      <td>15.87</td>\n",
       "      <td>0.75</td>\n",
       "      <td>44.91</td>\n",
       "      <td>88.92</td>\n",
       "      <td>0.0</td>\n",
       "      <td>0.0</td>\n",
       "      <td>182.0</td>\n",
       "      <td>Moderate</td>\n",
       "    </tr>\n",
       "    <tr>\n",
       "      <th>684</th>\n",
       "      <td>Ahmedabad</td>\n",
       "      <td>2015-01-29 13:00:00</td>\n",
       "      <td>68.40</td>\n",
       "      <td>92.0</td>\n",
       "      <td>0.58</td>\n",
       "      <td>13.73</td>\n",
       "      <td>12.50</td>\n",
       "      <td>15.87</td>\n",
       "      <td>0.58</td>\n",
       "      <td>34.57</td>\n",
       "      <td>116.75</td>\n",
       "      <td>0.0</td>\n",
       "      <td>0.0</td>\n",
       "      <td>179.0</td>\n",
       "      <td>Moderate</td>\n",
       "    </tr>\n",
       "  </tbody>\n",
       "</table>\n",
       "</div>"
      ],
      "text/plain": [
       "          city            datetime  pm2.5  pm10    no    no2   n_ox    nh3  \\\n",
       "680  Ahmedabad 2015-01-29 09:00:00  80.47  92.0  1.42  21.90  20.65  15.87   \n",
       "681  Ahmedabad 2015-01-29 10:00:00  87.80  92.0  2.03  19.87  22.22  15.87   \n",
       "682  Ahmedabad 2015-01-29 11:00:00  90.53  92.0  1.72  20.11  22.12  15.87   \n",
       "683  Ahmedabad 2015-01-29 12:00:00  83.53  92.0  0.75  16.35  16.48  15.87   \n",
       "684  Ahmedabad 2015-01-29 13:00:00  68.40  92.0  0.58  13.73  12.50  15.87   \n",
       "\n",
       "       co    so2      o3  benzene  toluene    aqi aqi_bucket  \n",
       "680  1.42  32.26   46.71      0.0      0.0  288.0       Poor  \n",
       "681  2.03  78.95   21.88      0.0      0.0  181.0   Moderate  \n",
       "682  1.72  95.86   67.67      0.0      0.0  182.0   Moderate  \n",
       "683  0.75  44.91   88.92      0.0      0.0  182.0   Moderate  \n",
       "684  0.58  34.57  116.75      0.0      0.0  179.0   Moderate  "
      ]
     },
     "execution_count": 43,
     "metadata": {},
     "output_type": "execute_result"
    }
   ],
   "source": [
    "df.head()"
   ]
  }
 ],
 "metadata": {
  "kernelspec": {
   "display_name": "Python 3 (ipykernel)",
   "language": "python",
   "name": "python3"
  },
  "language_info": {
   "codemirror_mode": {
    "name": "ipython",
    "version": 3
   },
   "file_extension": ".py",
   "mimetype": "text/x-python",
   "name": "python",
   "nbconvert_exporter": "python",
   "pygments_lexer": "ipython3",
   "version": "3.12.7"
  }
 },
 "nbformat": 4,
 "nbformat_minor": 4
}
