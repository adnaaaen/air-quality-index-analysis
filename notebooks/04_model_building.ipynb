{
 "cells": [
  {
   "cell_type": "markdown",
   "id": "98349e52-4bdb-4933-8ae6-ca100b92706d",
   "metadata": {},
   "source": [
    "*Made By [Adnan](https://linktr.ee/adnaaaen)*"
   ]
  },
  {
   "cell_type": "markdown",
   "id": "2e4d950e-abea-4920-acd0-50ec13b283c5",
   "metadata": {},
   "source": [
    "# ***Model Building***"
   ]
  },
  {
   "cell_type": "code",
   "execution_count": 7,
   "id": "0d0975ba-5774-4c5c-94a8-97149f181823",
   "metadata": {},
   "outputs": [],
   "source": [
    "import pandas as pd\n",
    "import numpy as np\n",
    "from matplotlib import pyplot as plt\n",
    "from sklearn.model_selection import train_test_split, cross_val_score, KFold\n",
    "from sklearn.metrics import mean_squared_error, mean_absolute_error, r2_score\n",
    "\n",
    "from sklearn.linear_model import LinearRegression\n",
    "from sklearn.ensemble import RandomForestRegressor, GradientBoostingRegressor\n",
    "\n",
    "import os\n",
    "import joblib\n",
    "from warnings import filterwarnings\n",
    "\n",
    "plt.style.use(\"dark_background\")\n",
    "filterwarnings(\"ignore\")"
   ]
  },
  {
   "cell_type": "code",
   "execution_count": 8,
   "id": "3f79287a-4a6a-4ff8-aaec-6611ee6e315c",
   "metadata": {},
   "outputs": [
    {
     "data": {
      "text/html": [
       "<div>\n",
       "<style scoped>\n",
       "    .dataframe tbody tr th:only-of-type {\n",
       "        vertical-align: middle;\n",
       "    }\n",
       "\n",
       "    .dataframe tbody tr th {\n",
       "        vertical-align: top;\n",
       "    }\n",
       "\n",
       "    .dataframe thead th {\n",
       "        text-align: right;\n",
       "    }\n",
       "</style>\n",
       "<table border=\"1\" class=\"dataframe\">\n",
       "  <thead>\n",
       "    <tr style=\"text-align: right;\">\n",
       "      <th></th>\n",
       "      <th>city_0</th>\n",
       "      <th>city_1</th>\n",
       "      <th>city_2</th>\n",
       "      <th>city_3</th>\n",
       "      <th>city_4</th>\n",
       "      <th>pm2.5</th>\n",
       "      <th>pm10</th>\n",
       "      <th>no</th>\n",
       "      <th>no2</th>\n",
       "      <th>n_ox</th>\n",
       "      <th>nh3</th>\n",
       "      <th>co</th>\n",
       "      <th>so2</th>\n",
       "      <th>o3</th>\n",
       "      <th>benzene</th>\n",
       "      <th>toluene</th>\n",
       "      <th>is_weekend</th>\n",
       "      <th>day_time</th>\n",
       "      <th>season</th>\n",
       "      <th>aqi</th>\n",
       "    </tr>\n",
       "  </thead>\n",
       "  <tbody>\n",
       "    <tr>\n",
       "      <th>0</th>\n",
       "      <td>-0.815813</td>\n",
       "      <td>-0.925448</td>\n",
       "      <td>-0.990663</td>\n",
       "      <td>-0.847216</td>\n",
       "      <td>0.76235</td>\n",
       "      <td>0.644657</td>\n",
       "      <td>0.050355</td>\n",
       "      <td>-1.393542</td>\n",
       "      <td>0.086050</td>\n",
       "      <td>0.033354</td>\n",
       "      <td>-0.002545</td>\n",
       "      <td>0.239407</td>\n",
       "      <td>1.479066</td>\n",
       "      <td>0.701922</td>\n",
       "      <td>-1.117163</td>\n",
       "      <td>-1.479028</td>\n",
       "      <td>-0.632988</td>\n",
       "      <td>-1.616656</td>\n",
       "      <td>-1.329244</td>\n",
       "      <td>5.666427</td>\n",
       "    </tr>\n",
       "    <tr>\n",
       "      <th>1</th>\n",
       "      <td>-0.815813</td>\n",
       "      <td>-0.925448</td>\n",
       "      <td>-0.990663</td>\n",
       "      <td>-0.847216</td>\n",
       "      <td>0.76235</td>\n",
       "      <td>0.746076</td>\n",
       "      <td>0.050355</td>\n",
       "      <td>-1.170187</td>\n",
       "      <td>-0.022855</td>\n",
       "      <td>0.105121</td>\n",
       "      <td>-0.002545</td>\n",
       "      <td>0.604834</td>\n",
       "      <td>2.566772</td>\n",
       "      <td>-0.127273</td>\n",
       "      <td>-1.117163</td>\n",
       "      <td>-1.479028</td>\n",
       "      <td>-0.632988</td>\n",
       "      <td>-0.934937</td>\n",
       "      <td>-1.329244</td>\n",
       "      <td>5.204007</td>\n",
       "    </tr>\n",
       "    <tr>\n",
       "      <th>2</th>\n",
       "      <td>-0.815813</td>\n",
       "      <td>-0.925448</td>\n",
       "      <td>-0.990663</td>\n",
       "      <td>-0.847216</td>\n",
       "      <td>0.76235</td>\n",
       "      <td>0.781722</td>\n",
       "      <td>0.050355</td>\n",
       "      <td>-1.277426</td>\n",
       "      <td>-0.009440</td>\n",
       "      <td>0.100697</td>\n",
       "      <td>-0.002545</td>\n",
       "      <td>0.429382</td>\n",
       "      <td>2.804722</td>\n",
       "      <td>1.112832</td>\n",
       "      <td>-1.117163</td>\n",
       "      <td>-1.479028</td>\n",
       "      <td>-0.632988</td>\n",
       "      <td>-0.934937</td>\n",
       "      <td>-1.329244</td>\n",
       "      <td>5.209486</td>\n",
       "    </tr>\n",
       "    <tr>\n",
       "      <th>3</th>\n",
       "      <td>-0.815813</td>\n",
       "      <td>-0.925448</td>\n",
       "      <td>-0.990663</td>\n",
       "      <td>-0.847216</td>\n",
       "      <td>0.76235</td>\n",
       "      <td>0.688063</td>\n",
       "      <td>0.050355</td>\n",
       "      <td>-1.715616</td>\n",
       "      <td>-0.239575</td>\n",
       "      <td>-0.185967</td>\n",
       "      <td>-0.002545</td>\n",
       "      <td>-0.287535</td>\n",
       "      <td>1.878814</td>\n",
       "      <td>1.417043</td>\n",
       "      <td>-1.117163</td>\n",
       "      <td>-1.479028</td>\n",
       "      <td>-0.632988</td>\n",
       "      <td>-0.934937</td>\n",
       "      <td>-1.329244</td>\n",
       "      <td>5.209486</td>\n",
       "    </tr>\n",
       "    <tr>\n",
       "      <th>4</th>\n",
       "      <td>-0.815813</td>\n",
       "      <td>-0.925448</td>\n",
       "      <td>-0.990663</td>\n",
       "      <td>-0.847216</td>\n",
       "      <td>0.76235</td>\n",
       "      <td>0.455894</td>\n",
       "      <td>0.050355</td>\n",
       "      <td>-1.817152</td>\n",
       "      <td>-0.431640</td>\n",
       "      <td>-0.450823</td>\n",
       "      <td>-0.002545</td>\n",
       "      <td>-0.453657</td>\n",
       "      <td>1.562342</td>\n",
       "      <td>1.721293</td>\n",
       "      <td>-1.117163</td>\n",
       "      <td>-1.479028</td>\n",
       "      <td>-0.632988</td>\n",
       "      <td>-0.253217</td>\n",
       "      <td>-1.329244</td>\n",
       "      <td>5.192957</td>\n",
       "    </tr>\n",
       "  </tbody>\n",
       "</table>\n",
       "</div>"
      ],
      "text/plain": [
       "     city_0    city_1    city_2  ...  day_time    season       aqi\n",
       "0 -0.815813 -0.925448 -0.990663  ... -1.616656 -1.329244  5.666427\n",
       "1 -0.815813 -0.925448 -0.990663  ... -0.934937 -1.329244  5.204007\n",
       "2 -0.815813 -0.925448 -0.990663  ... -0.934937 -1.329244  5.209486\n",
       "3 -0.815813 -0.925448 -0.990663  ... -0.934937 -1.329244  5.209486\n",
       "4 -0.815813 -0.925448 -0.990663  ... -0.253217 -1.329244  5.192957\n",
       "\n",
       "[5 rows x 20 columns]"
      ]
     },
     "execution_count": 8,
     "metadata": {},
     "output_type": "execute_result"
    }
   ],
   "source": [
    "if not os.path.exists(\"../data/preprocessed/preprocessed.csv\"):\n",
    "    raise FileNotFoundError(\n",
    "        \"preprocessed dataset is not here, please run the 03-preprocessed.ipynb notebook\"\n",
    "    )\n",
    "\n",
    "df = pd.read_csv(\"../data/preprocessed/preprocessed.csv\")\n",
    "df.head()"
   ]
  },
  {
   "cell_type": "markdown",
   "id": "51448dd4-1776-4ab7-9a38-0413e24f5c04",
   "metadata": {},
   "source": [
    "### ***Fearure - Target split***"
   ]
  },
  {
   "cell_type": "code",
   "execution_count": 9,
   "id": "1c7c57a4-87f5-4a1c-bdef-e8fa3d2b40ef",
   "metadata": {},
   "outputs": [
    {
     "data": {
      "text/plain": [
       "((568424, 19), (568424,))"
      ]
     },
     "execution_count": 9,
     "metadata": {},
     "output_type": "execute_result"
    }
   ],
   "source": [
    "X = df.drop([\"aqi\"], axis=1)\n",
    "Y = df[\"aqi\"]\n",
    "\n",
    "(X.shape), (Y.shape)"
   ]
  },
  {
   "cell_type": "markdown",
   "id": "c7e5da07-5898-4ee4-b084-015c59649075",
   "metadata": {},
   "source": [
    "### ***Train Test Split***"
   ]
  },
  {
   "cell_type": "code",
   "execution_count": 10,
   "id": "175c597a-d519-4413-99ae-dacf2c60bff7",
   "metadata": {},
   "outputs": [
    {
     "data": {
      "text/plain": [
       "(((397896, 19), (397896,)), ((170528, 19), (170528,)))"
      ]
     },
     "execution_count": 10,
     "metadata": {},
     "output_type": "execute_result"
    }
   ],
   "source": [
    "x_train, x_test, y_train, y_test = train_test_split(\n",
    "    X, Y, random_state=323987, shuffle=True, test_size=0.3\n",
    ")\n",
    "\n",
    "(x_train.shape, y_train.shape), (x_test.shape, y_test.shape)"
   ]
  },
  {
   "cell_type": "markdown",
   "id": "df2c9aae-08c2-4e22-a018-95288372d024",
   "metadata": {},
   "source": [
    "### ***Model Building***"
   ]
  },
  {
   "cell_type": "code",
   "execution_count": 11,
   "id": "a29e59fa-5ab7-4ee6-b139-ec393027f9af",
   "metadata": {},
   "outputs": [],
   "source": [
    "models = {\n",
    "    \"linear_regression\" : LinearRegression(),\n",
    "    \"random_forest\" : RandomForestRegressor(),\n",
    "    \"gradient_boosting\" : GradientBoostingRegressor()\n",
    "}"
   ]
  },
  {
   "cell_type": "code",
   "execution_count": 12,
   "id": "b0dda5b5-c0ab-43fc-b1e1-2015d6949d8a",
   "metadata": {},
   "outputs": [],
   "source": [
    "cv = KFold(n_splits=5, shuffle=True, random_state=435)\n",
    "R_sq = []\n",
    "MSE = []\n",
    "def input_score(model_name: str, x, y):\n",
    "    global cv, R_sq, MSE\n",
    "    model = models[model_name]\n",
    "    MSE.append(np.sqrt(-1) * cross_val_score(model, x, y, cv=cv, scoring=\"neg_mean_squared_error\").mean())\n",
    "    R_sq.append(cross_val_score(model, x, y, cv=cv, scoring=\"r2\").mean())"
   ]
  },
  {
   "cell_type": "code",
   "execution_count": null,
   "id": "89b30d50-3c86-49ff-b720-a74fbd5effba",
   "metadata": {},
   "outputs": [],
   "source": [
    "for model in models.keys():\n",
    "    input_score(model, x_train, y_train)"
   ]
  },
  {
   "cell_type": "code",
   "execution_count": null,
   "id": "56823842-8e4b-4223-8266-e9f0ae6ef04e",
   "metadata": {},
   "outputs": [],
   "source": [
    "R_sq"
   ]
  },
  {
   "cell_type": "code",
   "execution_count": null,
   "id": "cbf40e34-ab83-4161-91a6-30e305d4fecc",
   "metadata": {},
   "outputs": [],
   "source": [
    "MSE"
   ]
  },
  {
   "cell_type": "markdown",
   "id": "fa55c15e-464c-4d10-8303-78058452796d",
   "metadata": {},
   "source": [
    "### ***Random Forest Regressor Model***"
   ]
  },
  {
   "cell_type": "code",
   "execution_count": null,
   "id": "a363aa2e-013c-42d3-9b15-47eab0812333",
   "metadata": {},
   "outputs": [],
   "source": []
  },
  {
   "cell_type": "code",
   "execution_count": 13,
   "id": "b74c1de0-97ee-414c-9a84-30ec6adf1187",
   "metadata": {},
   "outputs": [],
   "source": [
    "rf = RandomForestRegressor()\n",
    "random_forest_model = rf.fit(x_train, y_train)"
   ]
  },
  {
   "cell_type": "code",
   "execution_count": 14,
   "id": "2ba2df9d-c9a4-4b54-af31-da51cd1a3276",
   "metadata": {},
   "outputs": [],
   "source": [
    "\"\"\"predict train set\"\"\"\n",
    "y_train_pred = random_forest_model.predict(x_train)\n",
    "\n",
    "# evaluation metrics\n",
    "random_forest_train_mae = mean_absolute_error(y_train_pred, y_train)\n",
    "random_forest_train_mse = mean_squared_error(y_train_pred, y_train)\n",
    "random_forest_train_r_square = r2_score(y_train_pred, y_train)"
   ]
  },
  {
   "cell_type": "code",
   "execution_count": 15,
   "id": "61eacf09-bf7a-417e-a5e3-f7a3903df742",
   "metadata": {},
   "outputs": [],
   "source": [
    "\"\"\"predict test set\"\"\"\n",
    "y_pred = random_forest_model.predict(x_test)\n",
    "\n",
    "# evalucation metrics\n",
    "random_forest_test_mae = mean_absolute_error(y_test, y_pred)\n",
    "random_forest_test_mse = mean_squared_error(y_test, y_pred)\n",
    "random_forest_test_r_square = r2_score(y_test, y_pred)"
   ]
  },
  {
   "cell_type": "markdown",
   "id": "275a9db8-8718-4ca0-a129-3e2745f22061",
   "metadata": {},
   "source": [
    "### ***Model Evaluation Metrics***"
   ]
  },
  {
   "cell_type": "code",
   "execution_count": null,
   "id": "438e0da0-a9bd-4bd2-abda-61241fa60f95",
   "metadata": {},
   "outputs": [],
   "source": [
    "# \"\"\"plot the metrics in train and test sets, to check overfit/underfit\"\"\"\n",
    "\n",
    "# x = [\"MAE\", \"MSE\", \"R SQUARED\"]\n",
    "# x_axis = np.arange(len(x))\n",
    "\n",
    "# ax_1 = plt.bar(\n",
    "#     x_axis - 0.2,\n",
    "#     [train_mae, train_mse, train_r_square],\n",
    "#     0.4,\n",
    "#     label=\"Train\",\n",
    "#     color=\"#124aa3\",\n",
    "# )\n",
    "# ax_2 = plt.bar(\n",
    "#     x_axis + 0.2,\n",
    "#     [test_mae, test_mse, test_r_square],\n",
    "#     0.4,\n",
    "#     label=\"Test\",\n",
    "#     color=\"#051f47\",\n",
    "# )\n",
    "\n",
    "# plt.bar_label(ax_1, fmt=\"%.4f\")\n",
    "# plt.bar_label(ax_2, fmt=\"%.4f\")\n",
    "# plt.ylabel(\"score\")\n",
    "# plt.xlabel(\"evaluation metrics\")\n",
    "# plt.xticks(x_axis, x)\n",
    "# plt.legend()\n",
    "# plt.show()"
   ]
  },
  {
   "cell_type": "code",
   "execution_count": null,
   "id": "c8e72fec-dada-4a5e-a268-9480c14dd6b7",
   "metadata": {},
   "outputs": [],
   "source": [
    "# \"\"\"save model as serialized joblib file\"\"\"\n",
    "\n",
    "# if not os.path.exists(\"../model/trained\"):\n",
    "#     os.mkdir(\"../model/trained\")\n",
    "\n",
    "# joblib.dump(regressor_model, \"../model/trained/linear_regression_model.joblib\")"
   ]
  },
  {
   "cell_type": "markdown",
   "id": "3763d588-5193-4a1b-89a1-8717e12beb33",
   "metadata": {},
   "source": [
    "### ***Next: Create Flask Dashboard***"
   ]
  }
 ],
 "metadata": {
  "kernelspec": {
   "display_name": "Python 3 (ipykernel)",
   "language": "python",
   "name": "python3"
  },
  "language_info": {
   "codemirror_mode": {
    "name": "ipython",
    "version": 3
   },
   "file_extension": ".py",
   "mimetype": "text/x-python",
   "name": "python",
   "nbconvert_exporter": "python",
   "pygments_lexer": "ipython3",
   "version": "3.12.8"
  }
 },
 "nbformat": 4,
 "nbformat_minor": 5
}
