{
 "cells": [
  {
   "cell_type": "markdown",
   "id": "98349e52-4bdb-4933-8ae6-ca100b92706d",
   "metadata": {},
   "source": [
    "*Made By [Adnan](https://linktr.ee/adnaaaen)*"
   ]
  },
  {
   "cell_type": "markdown",
   "id": "2e4d950e-abea-4920-acd0-50ec13b283c5",
   "metadata": {},
   "source": [
    "# ***Model Building***"
   ]
  },
  {
   "cell_type": "code",
   "execution_count": 1,
   "id": "0d0975ba-5774-4c5c-94a8-97149f181823",
   "metadata": {},
   "outputs": [],
   "source": [
    "import pandas as pd\n",
    "import numpy as np\n",
    "from matplotlib import pyplot as plt\n",
    "from sklearn.model_selection import train_test_split, cross_validate\n",
    "from sklearn.metrics import mean_squared_error, mean_absolute_error, r2_score\n",
    "from sklearn.linear_model import LinearRegression\n",
    "\n",
    "import os\n",
    "import joblib\n",
    "from warnings import filterwarnings\n",
    "\n",
    "plt.style.use(\"dark_background\")\n",
    "filterwarnings(\"ignore\")"
   ]
  },
  {
   "cell_type": "code",
   "execution_count": 2,
   "id": "3f79287a-4a6a-4ff8-aaec-6611ee6e315c",
   "metadata": {},
   "outputs": [
    {
     "data": {
      "text/html": [
       "<div>\n",
       "<style scoped>\n",
       "    .dataframe tbody tr th:only-of-type {\n",
       "        vertical-align: middle;\n",
       "    }\n",
       "\n",
       "    .dataframe tbody tr th {\n",
       "        vertical-align: top;\n",
       "    }\n",
       "\n",
       "    .dataframe thead th {\n",
       "        text-align: right;\n",
       "    }\n",
       "</style>\n",
       "<table border=\"1\" class=\"dataframe\">\n",
       "  <thead>\n",
       "    <tr style=\"text-align: right;\">\n",
       "      <th></th>\n",
       "      <th>city_0</th>\n",
       "      <th>city_1</th>\n",
       "      <th>city_2</th>\n",
       "      <th>city_3</th>\n",
       "      <th>city_4</th>\n",
       "      <th>pm2.5</th>\n",
       "      <th>pm10</th>\n",
       "      <th>no</th>\n",
       "      <th>no2</th>\n",
       "      <th>n_ox</th>\n",
       "      <th>...</th>\n",
       "      <th>benzene</th>\n",
       "      <th>toluene</th>\n",
       "      <th>day</th>\n",
       "      <th>month</th>\n",
       "      <th>year</th>\n",
       "      <th>day_of_week</th>\n",
       "      <th>hour</th>\n",
       "      <th>is_weekend</th>\n",
       "      <th>season</th>\n",
       "      <th>aqi</th>\n",
       "    </tr>\n",
       "  </thead>\n",
       "  <tbody>\n",
       "    <tr>\n",
       "      <th>0</th>\n",
       "      <td>-0.815813</td>\n",
       "      <td>-0.925448</td>\n",
       "      <td>-0.990663</td>\n",
       "      <td>-0.847216</td>\n",
       "      <td>0.76235</td>\n",
       "      <td>0.644657</td>\n",
       "      <td>0.050355</td>\n",
       "      <td>-1.393542</td>\n",
       "      <td>0.086050</td>\n",
       "      <td>0.033354</td>\n",
       "      <td>...</td>\n",
       "      <td>-1.117163</td>\n",
       "      <td>-1.479028</td>\n",
       "      <td>1.501441</td>\n",
       "      <td>-1.527203</td>\n",
       "      <td>-2.093452</td>\n",
       "      <td>-0.002554</td>\n",
       "      <td>-0.361599</td>\n",
       "      <td>-0.632988</td>\n",
       "      <td>-1.329244</td>\n",
       "      <td>5.666427</td>\n",
       "    </tr>\n",
       "    <tr>\n",
       "      <th>1</th>\n",
       "      <td>-0.815813</td>\n",
       "      <td>-0.925448</td>\n",
       "      <td>-0.990663</td>\n",
       "      <td>-0.847216</td>\n",
       "      <td>0.76235</td>\n",
       "      <td>0.746076</td>\n",
       "      <td>0.050355</td>\n",
       "      <td>-1.170187</td>\n",
       "      <td>-0.022855</td>\n",
       "      <td>0.105121</td>\n",
       "      <td>...</td>\n",
       "      <td>-1.117163</td>\n",
       "      <td>-1.479028</td>\n",
       "      <td>1.501441</td>\n",
       "      <td>-1.527203</td>\n",
       "      <td>-2.093452</td>\n",
       "      <td>-0.002554</td>\n",
       "      <td>-0.216941</td>\n",
       "      <td>-0.632988</td>\n",
       "      <td>-1.329244</td>\n",
       "      <td>5.204007</td>\n",
       "    </tr>\n",
       "    <tr>\n",
       "      <th>2</th>\n",
       "      <td>-0.815813</td>\n",
       "      <td>-0.925448</td>\n",
       "      <td>-0.990663</td>\n",
       "      <td>-0.847216</td>\n",
       "      <td>0.76235</td>\n",
       "      <td>0.781722</td>\n",
       "      <td>0.050355</td>\n",
       "      <td>-1.277426</td>\n",
       "      <td>-0.009440</td>\n",
       "      <td>0.100697</td>\n",
       "      <td>...</td>\n",
       "      <td>-1.117163</td>\n",
       "      <td>-1.479028</td>\n",
       "      <td>1.501441</td>\n",
       "      <td>-1.527203</td>\n",
       "      <td>-2.093452</td>\n",
       "      <td>-0.002554</td>\n",
       "      <td>-0.072283</td>\n",
       "      <td>-0.632988</td>\n",
       "      <td>-1.329244</td>\n",
       "      <td>5.209486</td>\n",
       "    </tr>\n",
       "    <tr>\n",
       "      <th>3</th>\n",
       "      <td>-0.815813</td>\n",
       "      <td>-0.925448</td>\n",
       "      <td>-0.990663</td>\n",
       "      <td>-0.847216</td>\n",
       "      <td>0.76235</td>\n",
       "      <td>0.688063</td>\n",
       "      <td>0.050355</td>\n",
       "      <td>-1.715616</td>\n",
       "      <td>-0.239575</td>\n",
       "      <td>-0.185967</td>\n",
       "      <td>...</td>\n",
       "      <td>-1.117163</td>\n",
       "      <td>-1.479028</td>\n",
       "      <td>1.501441</td>\n",
       "      <td>-1.527203</td>\n",
       "      <td>-2.093452</td>\n",
       "      <td>-0.002554</td>\n",
       "      <td>0.072375</td>\n",
       "      <td>-0.632988</td>\n",
       "      <td>-1.329244</td>\n",
       "      <td>5.209486</td>\n",
       "    </tr>\n",
       "    <tr>\n",
       "      <th>4</th>\n",
       "      <td>-0.815813</td>\n",
       "      <td>-0.925448</td>\n",
       "      <td>-0.990663</td>\n",
       "      <td>-0.847216</td>\n",
       "      <td>0.76235</td>\n",
       "      <td>0.455894</td>\n",
       "      <td>0.050355</td>\n",
       "      <td>-1.817152</td>\n",
       "      <td>-0.431640</td>\n",
       "      <td>-0.450823</td>\n",
       "      <td>...</td>\n",
       "      <td>-1.117163</td>\n",
       "      <td>-1.479028</td>\n",
       "      <td>1.501441</td>\n",
       "      <td>-1.527203</td>\n",
       "      <td>-2.093452</td>\n",
       "      <td>-0.002554</td>\n",
       "      <td>0.217033</td>\n",
       "      <td>-0.632988</td>\n",
       "      <td>-1.329244</td>\n",
       "      <td>5.192957</td>\n",
       "    </tr>\n",
       "  </tbody>\n",
       "</table>\n",
       "<p>5 rows × 24 columns</p>\n",
       "</div>"
      ],
      "text/plain": [
       "     city_0    city_1    city_2    city_3   city_4     pm2.5      pm10  \\\n",
       "0 -0.815813 -0.925448 -0.990663 -0.847216  0.76235  0.644657  0.050355   \n",
       "1 -0.815813 -0.925448 -0.990663 -0.847216  0.76235  0.746076  0.050355   \n",
       "2 -0.815813 -0.925448 -0.990663 -0.847216  0.76235  0.781722  0.050355   \n",
       "3 -0.815813 -0.925448 -0.990663 -0.847216  0.76235  0.688063  0.050355   \n",
       "4 -0.815813 -0.925448 -0.990663 -0.847216  0.76235  0.455894  0.050355   \n",
       "\n",
       "         no       no2      n_ox  ...   benzene   toluene       day     month  \\\n",
       "0 -1.393542  0.086050  0.033354  ... -1.117163 -1.479028  1.501441 -1.527203   \n",
       "1 -1.170187 -0.022855  0.105121  ... -1.117163 -1.479028  1.501441 -1.527203   \n",
       "2 -1.277426 -0.009440  0.100697  ... -1.117163 -1.479028  1.501441 -1.527203   \n",
       "3 -1.715616 -0.239575 -0.185967  ... -1.117163 -1.479028  1.501441 -1.527203   \n",
       "4 -1.817152 -0.431640 -0.450823  ... -1.117163 -1.479028  1.501441 -1.527203   \n",
       "\n",
       "       year  day_of_week      hour  is_weekend    season       aqi  \n",
       "0 -2.093452    -0.002554 -0.361599   -0.632988 -1.329244  5.666427  \n",
       "1 -2.093452    -0.002554 -0.216941   -0.632988 -1.329244  5.204007  \n",
       "2 -2.093452    -0.002554 -0.072283   -0.632988 -1.329244  5.209486  \n",
       "3 -2.093452    -0.002554  0.072375   -0.632988 -1.329244  5.209486  \n",
       "4 -2.093452    -0.002554  0.217033   -0.632988 -1.329244  5.192957  \n",
       "\n",
       "[5 rows x 24 columns]"
      ]
     },
     "execution_count": 2,
     "metadata": {},
     "output_type": "execute_result"
    }
   ],
   "source": [
    "if not os.path.exists(\"../data/preprocessed/preprocessed.csv\"):\n",
    "    raise FileNotFoundError(\"preprocessed dataset is not here, please run the 03-preprocessed.ipynb notebook\")\n",
    "\n",
    "df = pd.read_csv(\"../data/preprocessed/preprocessed.csv\")\n",
    "df.head()"
   ]
  },
  {
   "cell_type": "markdown",
   "id": "51448dd4-1776-4ab7-9a38-0413e24f5c04",
   "metadata": {},
   "source": [
    "### ***Fearure - Target split***"
   ]
  },
  {
   "cell_type": "code",
   "execution_count": 3,
   "id": "1c7c57a4-87f5-4a1c-bdef-e8fa3d2b40ef",
   "metadata": {},
   "outputs": [
    {
     "data": {
      "text/plain": [
       "((568424, 23), (568424,))"
      ]
     },
     "execution_count": 3,
     "metadata": {},
     "output_type": "execute_result"
    }
   ],
   "source": [
    "X = df.drop([\"aqi\"], axis=1)\n",
    "Y = df[\"aqi\"]\n",
    "\n",
    "(X.shape), (Y.shape)"
   ]
  },
  {
   "cell_type": "markdown",
   "id": "c7e5da07-5898-4ee4-b084-015c59649075",
   "metadata": {},
   "source": [
    "### ***Train Test Split***"
   ]
  },
  {
   "cell_type": "code",
   "execution_count": 4,
   "id": "175c597a-d519-4413-99ae-dacf2c60bff7",
   "metadata": {},
   "outputs": [
    {
     "data": {
      "text/plain": [
       "(((397896, 23), (397896,)), ((170528, 23), (170528,)))"
      ]
     },
     "execution_count": 4,
     "metadata": {},
     "output_type": "execute_result"
    }
   ],
   "source": [
    "x_train, x_test, y_train, y_test = train_test_split(X, Y, random_state=323987, shuffle=True, test_size=0.3)\n",
    "\n",
    "(x_train.shape, y_train.shape), (x_test.shape, y_test.shape)"
   ]
  },
  {
   "cell_type": "markdown",
   "id": "df2c9aae-08c2-4e22-a018-95288372d024",
   "metadata": {},
   "source": [
    "### ***Model Building***"
   ]
  },
  {
   "cell_type": "code",
   "execution_count": 5,
   "id": "807886ef-3b9e-439c-847e-2478f026a332",
   "metadata": {},
   "outputs": [],
   "source": [
    "\"\"\"chooe LinearRegression as Model\"\"\"\n",
    "lr = LinearRegression()\n",
    "regressor_model = lr.fit(x_train, y_train)"
   ]
  },
  {
   "cell_type": "code",
   "execution_count": 6,
   "id": "65317718-64ec-4e95-a646-5695ad4e0372",
   "metadata": {},
   "outputs": [],
   "source": [
    "\"\"\"predict train set\"\"\"\n",
    "y_train_pred = regressor_model.predict(x_train)\n",
    "\n",
    "# evaluation metrics\n",
    "train_mae = mean_absolute_error(y_train_pred, y_train)\n",
    "train_mse = mean_squared_error(y_train_pred, y_train)\n",
    "train_r_square = r2_score(y_train_pred, y_train)"
   ]
  },
  {
   "cell_type": "code",
   "execution_count": 7,
   "id": "61eacf09-bf7a-417e-a5e3-f7a3903df742",
   "metadata": {},
   "outputs": [],
   "source": [
    "\"\"\"predict test set\"\"\"\n",
    "y_pred = regressor_model.predict(x_test)\n",
    "\n",
    "# evalucation metrics\n",
    "test_mae = mean_absolute_error(y_test, y_pred)\n",
    "test_mse = mean_squared_error(y_test, y_pred)\n",
    "test_r_square = r2_score(y_test, y_pred)"
   ]
  },
  {
   "cell_type": "code",
   "execution_count": 8,
   "id": "438e0da0-a9bd-4bd2-abda-61241fa60f95",
   "metadata": {},
   "outputs": [
    {
     "data": {
      "image/png": "[encoded data removed]",
      "text/plain": [
       "<Figure size 640x480 with 1 Axes>"
      ]
     },
     "metadata": {},
     "output_type": "display_data"
    }
   ],
   "source": [
    "\"\"\"plot the metrics in train and test sets, to check overfit/underfit\"\"\"\n",
    "\n",
    "x = [\"MAE\", \"MSE\", \"R SQUARED\"]\n",
    "x_axis = np.arange(len(x))\n",
    "\n",
    "ax_1 = plt.bar(x_axis - 0.2, [train_mae, train_mse, train_r_square], 0.4, label=\"Train\", color=\"#124aa3\")\n",
    "ax_2 = plt.bar(x_axis + 0.2, [test_mae, test_mse, test_r_square], 0.4, label=\"Test\", color=\"#051f47\")\n",
    "\n",
    "plt.bar_label(ax_1, fmt=\"%.4f\")\n",
    "plt.bar_label(ax_2, fmt=\"%.4f\")\n",
    "plt.ylabel(\"score\")\n",
    "plt.xlabel(\"evaluation metrics\")\n",
    "plt.xticks(x_axis, x)\n",
    "plt.legend()\n",
    "plt.show()"
   ]
  },
  {
   "cell_type": "code",
   "execution_count": 9,
   "id": "49b6aabc-ce80-4003-9ba3-c895415887d5",
   "metadata": {},
   "outputs": [
    {
     "data": {
      "text/plain": [
       "['../model/trained/linear_regression_model.joblib']"
      ]
     },
     "execution_count": 9,
     "metadata": {},
     "output_type": "execute_result"
    }
   ],
   "source": [
    "\"\"\"save model as serialized joblib file\"\"\"\n",
    "\n",
    "if not os.path.exists(\"../model/trained\"):\n",
    "    os.mkdir(\"../model/trained\")\n",
    "\n",
    "joblib.dump(regressor_model, \"../model/trained/linear_regression_model.joblib\")"
   ]
  },
  {
   "cell_type": "markdown",
   "id": "3763d588-5193-4a1b-89a1-8717e12beb33",
   "metadata": {},
   "source": [
    "### ***Next: Create Flask Dashboard***"
   ]
  }
 ],
 "metadata": {
  "kernelspec": {
   "display_name": "Python 3 (ipykernel)",
   "language": "python",
   "name": "python3"
  },
  "language_info": {
   "codemirror_mode": {
    "name": "ipython",
    "version": 3
   },
   "file_extension": ".py",
   "mimetype": "text/x-python",
   "name": "python",
   "nbconvert_exporter": "python",
   "pygments_lexer": "ipython3",
   "version": "3.12.8"
  }
 },
 "nbformat": 4,
 "nbformat_minor": 5
}
